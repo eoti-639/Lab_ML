{
  "nbformat": 4,
  "nbformat_minor": 0,
  "metadata": {
    "colab": {
      "provenance": [],
      "authorship_tag": "ABX9TyNMrgJsiTnJyXNioLlvBvli",
      "include_colab_link": true
    },
    "kernelspec": {
      "name": "python3",
      "display_name": "Python 3"
    },
    "language_info": {
      "name": "python"
    }
  },
  "cells": [
    {
      "cell_type": "markdown",
      "metadata": {
        "id": "view-in-github",
        "colab_type": "text"
      },
      "source": [
        "<a href=\"https://colab.research.google.com/github/eoti-639/Lab_ML/blob/main/Lab1_21130583_BuiLeTrung.ipynb\" target=\"_parent\"><img src=\"https://colab.research.google.com/assets/colab-badge.svg\" alt=\"Open In Colab\"/></a>"
      ]
    },
    {
      "cell_type": "code",
      "execution_count": null,
      "metadata": {
        "id": "UXXzK9KQdY3j",
        "colab": {
          "base_uri": "https://localhost:8080/"
        },
        "outputId": "3f2c643b-05a0-453a-e13d-30a2af7d1ee4"
      },
      "outputs": [
        {
          "name": "stdout",
          "output_type": "stream",
          "text": [
            "Nhạp n: 4\n",
            "Nhap vao: 1\n",
            "Nhap vao: 2\n",
            "Nhap vao: 3\n",
            "Nhap vao: 4\n"
          ]
        }
      ],
      "source": [
        "n = int(input(\"Nhạp n: \"))\n",
        "L = []\n",
        "for i in range(n):\n",
        "  x= int(input(\"Nhap vao: \"))\n",
        "  L.append(x)"
      ]
    },
    {
      "cell_type": "code",
      "source": [
        "print(min(L))\n",
        "print(max(L))\n",
        "print(sum(L))\n",
        "print(L.sort())"
      ],
      "metadata": {
        "colab": {
          "base_uri": "https://localhost:8080/"
        },
        "id": "vKdeJeBsCtCe",
        "outputId": "548a2127-0118-427e-8e82-aef34dee408c"
      },
      "execution_count": null,
      "outputs": [
        {
          "output_type": "stream",
          "name": "stdout",
          "text": [
            "1\n",
            "4\n",
            "10\n",
            "None\n"
          ]
        }
      ]
    }
  ]
}